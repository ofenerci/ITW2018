{
  "nbformat": 4,
  "nbformat_minor": 0,
  "metadata": {
    "colab": {
      "name": "ITW2018-DataAnalysisGroup.ipynb",
      "version": "0.3.2",
      "provenance": [],
      "collapsed_sections": [],
      "include_colab_link": true
    },
    "kernelspec": {
      "name": "python3",
      "display_name": "Python 3"
    }
  },
  "cells": [
    {
      "cell_type": "markdown",
      "metadata": {
        "id": "view-in-github",
        "colab_type": "text"
      },
      "source": [
        "[View in Colaboratory](https://colab.research.google.com/github/ofenerci/ITW2018/blob/master/ITW2018_DataAnalysisGroup.ipynb)"
      ]
    },
    {
      "metadata": {
        "id": "OP6PxdjJGnmX",
        "colab_type": "code",
        "colab": {}
      },
      "cell_type": "code",
      "source": [
        ""
      ],
      "execution_count": 0,
      "outputs": []
    },
    {
      "metadata": {
        "id": "vcU2symK8gRJ",
        "colab_type": "code",
        "colab": {}
      },
      "cell_type": "code",
      "source": [
        ""
      ],
      "execution_count": 0,
      "outputs": []
    },
    {
      "metadata": {
        "id": "GKMfjItw8h15",
        "colab_type": "code",
        "colab": {}
      },
      "cell_type": "code",
      "source": [
        ""
      ],
      "execution_count": 0,
      "outputs": []
    },
    {
      "metadata": {
        "id": "hQwi9yxuGvQI",
        "colab_type": "text"
      },
      "cell_type": "markdown",
      "source": [
        "# Data Analysis in Particle Physics (Nuclear  Physics)\n",
        "We are bombarded with data every day. We are living in the age of data driving models. But how do we interpret data. Radioactivity is  almost part of high school curriculum and we decided to show how to interpret radioactivity data, which is related to particle physics. \n",
        "\n",
        "\n",
        "## Radioactive Decay\n",
        "Radioactive decay is the process by which an unstable subatomic particle physics transforms into multiple into multiple particles. During the process, the total amount of the radioactive element decreases over time. For example, Carbon atom  $^{12}_6\\text{C}$ has isotopes, most of which are radioactive. One of them is $^{10}_6\\text{C}$ and is radioactive. \n",
        "\n",
        "Although the decay of individual nuclei happens randomly, it turns out that large numbers of nuclei can be modelled by a mathematical function that predicts the amount of radioactive nuclei remaining at a given time:\n",
        "\n",
        "$$ N(t)= N_{0}e^{-\\lambda t}$$\n",
        "\n",
        "where\n",
        "\n",
        "$\\textbf{N(t)}$ is the number of radioactive atoms left at time $t$.\n",
        "\n",
        "$\\textbf{N}_{0}$ is the number of radioactive atoms at the begining. \n",
        "\n",
        "$\\boldsymbol{\\lambda}$ is the decay constant, which controls how quickly the total number of nuclei decays. \n",
        "\n",
        "Before going into detail, we would like to introduce basic plotting with python. \n",
        "\n",
        "__Example__:\n",
        "The decay constant $^{10}_6\\text{C}$ nuclei is 0.036. The number atoms at the beginning is 1000. Plot the number of radioactive nuclei remaining  in a sample of material against time ( $ 0<t<100$ seconds). \n",
        "\n",
        "We will use *numpy* and *matplotlib* libraries to plot this graph. \n",
        "\n",
        "\n"
      ]
    },
    {
      "metadata": {
        "id": "ml2hRoVAkSwq",
        "colab_type": "code",
        "colab": {
          "base_uri": "https://localhost:8080/",
          "height": 52
        },
        "outputId": "791de5e3-4ed2-45bd-d507-6af243dbdbf6"
      },
      "cell_type": "code",
      "source": [
        "# import matplotlib and numpy\n",
        "import matplotlib.pyplot as plt\n",
        "import numpy as np\n",
        "# Define constants\n",
        "N0=1000; # the number of nuclei at the beginning.\n",
        "lam = 0.036 # decay constant lambda\n",
        "#Generate points for time starting 0s, ending 100s with a time interval 5s.\n",
        "t = np.arange(0,101,5)\n",
        "print(t)\n"
      ],
      "execution_count": 9,
      "outputs": [
        {
          "output_type": "stream",
          "text": [
            "[  0   5  10  15  20  25  30  35  40  45  50  55  60  65  70  75  80  85\n",
            "  90  95 100]\n"
          ],
          "name": "stdout"
        }
      ]
    },
    {
      "metadata": {
        "id": "yPH7NKpWox_-",
        "colab_type": "text"
      },
      "cell_type": "markdown",
      "source": [
        "As we see we produced data points for $t$ from 0 to 100s with a interval of 5s. Now let's produce data points for $N(t)$.\n"
      ]
    },
    {
      "metadata": {
        "id": "5qymx2mfpZBx",
        "colab_type": "code",
        "colab": {
          "base_uri": "https://localhost:8080/",
          "height": 104
        },
        "outputId": "64ed4b40-0ac0-425d-f3df-bec60f4d1343"
      },
      "cell_type": "code",
      "source": [
        "N = N0 * np.exp(-t*lam)\n",
        "print(N)"
      ],
      "execution_count": 10,
      "outputs": [
        {
          "output_type": "stream",
          "text": [
            "[1000.          835.27021141  697.67632607  582.74825237  486.75225596\n",
            "  406.56965974  339.59552564  283.6540265   236.92775868  197.89869908\n",
            "  165.29888822  138.06923731  115.32512104   96.32763823   80.45960675\n",
            "   67.20551274   56.13476283   46.88769522   39.1638951    32.71243494\n",
            "   27.32372245]\n"
          ],
          "name": "stdout"
        }
      ]
    },
    {
      "metadata": {
        "id": "LDfGF4w2qLFi",
        "colab_type": "text"
      },
      "cell_type": "markdown",
      "source": [
        "Now we created two data points for two variables, which are $N(t)$ and $t$. To determine the relationship between two variables, we will use the *plot* library function *scatter()*. "
      ]
    },
    {
      "metadata": {
        "id": "VW5843Pxq64X",
        "colab_type": "code",
        "colab": {
          "base_uri": "https://localhost:8080/",
          "height": 376
        },
        "outputId": "54b352c0-2275-4363-f608-53c9f0e9bb32"
      },
      "cell_type": "code",
      "source": [
        "plt.scatter(N,t)\n",
        "plt.title('Decay rate of C-10 nucleus')\n",
        "plt.xlabel ('Time (s)')\n",
        "plt.ylabel('Radioactive Nuclei')\n",
        "plt.show()"
      ],
      "execution_count": 11,
      "outputs": [
        {
          "output_type": "display_data",
          "data": {
            "image/png": "[encoded data removed]",
            "text/plain": [
              "<matplotlib.figure.Figure at 0x7fcab268b668>"
            ]
          },
          "metadata": {
            "tags": []
          }
        }
      ]
    },
    {
      "metadata": {
        "id": "tEUAGLxBzxOK",
        "colab_type": "text"
      },
      "cell_type": "markdown",
      "source": [
        "__Example__: Here is a data on the radioactive decay of Strontium 90. \n",
        "\n",
        "|Time (years)| Amount of Strontium 90(grams)|\n",
        "|---|---|\n",
        "|0|100|\n",
        "|25|50|\n",
        "|50|25|\n",
        "|75|12.5|\n",
        "|100|6.25|\n",
        "|125|3.135|\n",
        "|150|1.5625|\n",
        "|175|0.78125|\n",
        "\n",
        "## Half-life\n",
        "Half-life is defined as the time it takes one-half atoms of radioactive material to disintegrate.\n",
        "\n",
        "__Question__: Looking at the data above, how do you determine the half-life? We have started 100 grams of Strontium and using the definition of half-life, we need to find the time passed for  half of the radioactive material disintegrated,  that is 50 years. \n",
        "\n",
        "\n",
        "## Relation between half-life and decay constant\n",
        "The half-life is the time ($T_{1/2}$) it takes for the half of radioactive nuclei decay into stable from. By using this definition, \n",
        "\n",
        "$N_{0}/2= N_{0}*\\exp(-T_{1/2}\\lambda)$.\n",
        "By taking natural log (ln) of both sides, we find that\n",
        "\n",
        "\\begin{align}\n",
        "\\ln(N_{0}/2) &=\\ln(N_{0}*\\exp(-T_{1/2}\\lambda) ) \\\\\n",
        "\\ln(N_{0})-ln(2) &= \\ln(N_{0})-T_{1/2}\\lambda \\\\\n",
        "T_{1/2}= ln(2)/\\lambda\n",
        "\\end{align}\n",
        "\n",
        "\n",
        "## How to draw data\n",
        "\n"
      ]
    },
    {
      "metadata": {
        "id": "V5vir9JW4QYY",
        "colab_type": "text"
      },
      "cell_type": "markdown",
      "source": [
        "Assign time to $t$ and amount of strontium to $N(t)$"
      ]
    },
    {
      "metadata": {
        "id": "_hgwXEaX4IYX",
        "colab_type": "code",
        "colab": {
          "base_uri": "https://localhost:8080/",
          "height": 347
        },
        "outputId": "fc40e2a2-aaf4-45a1-e79e-58a43b0ce52b"
      },
      "cell_type": "code",
      "source": [
        "t = np.array([0,25,50,75,100,125,150,175])\n",
        "N = np.array([100,50,25,12.5,6.25,3.135,1.5625,0.78125])\n",
        "plt.scatter(t,N)\n",
        "plt.show()"
      ],
      "execution_count": 12,
      "outputs": [
        {
          "output_type": "display_data",
          "data": {
            "image/png": "[encoded data removed]",
            "text/plain": [
              "<matplotlib.figure.Figure at 0x7fcab265a588>"
            ]
          },
          "metadata": {
            "tags": []
          }
        }
      ]
    },
    {
      "metadata": {
        "id": "r3HqMUlz5g66",
        "colab_type": "text"
      },
      "cell_type": "markdown",
      "source": [
        "To find the decay constant, we will take the natural log of both sides of decay formula,\n",
        "\n",
        "\\begin{align}\n",
        " N(t) & =N(0)*exp(-\\lambda t) \\\\\n",
        "\\ln(N(t)) & = \\ln(N(0)*exp(-\\lambda t))\\\\\n",
        "\\ln(N(t)) & = \\ln(N(0)) -\\lambda * t\n",
        "\\end{align}\n"
      ]
    },
    {
      "metadata": {
        "id": "_xZBJYAu4ssJ",
        "colab_type": "code",
        "colab": {}
      },
      "cell_type": "code",
      "source": [
        "#log of N(t)\n",
        "lN = np.log(N)"
      ],
      "execution_count": 0,
      "outputs": []
    },
    {
      "metadata": {
        "id": "RTbsWZFX8ud4",
        "colab_type": "code",
        "colab": {
          "base_uri": "https://localhost:8080/",
          "height": 364
        },
        "outputId": "9c1a0ab6-8b1e-4a9e-b74d-3cd8fedaaaaf"
      },
      "cell_type": "code",
      "source": [
        "plt.plot(t,lN)"
      ],
      "execution_count": 36,
      "outputs": [
        {
          "output_type": "execute_result",
          "data": {
            "text/plain": [
              "[<matplotlib.lines.Line2D at 0x7fcab262e828>]"
            ]
          },
          "metadata": {
            "tags": []
          },
          "execution_count": 36
        },
        {
          "output_type": "display_data",
          "data": {
            "image/png": "[encoded data removed]",
            "text/plain": [
              "<matplotlib.figure.Figure at 0x7fcab26470f0>"
            ]
          },
          "metadata": {
            "tags": []
          }
        }
      ]
    },
    {
      "metadata": {
        "id": "VQ_G-bg_WCeK",
        "colab_type": "text"
      },
      "cell_type": "markdown",
      "source": [
        "The plot now is linear and we'e familiar with this plot from our math courses. The slope of the line gives $\\lambda$. "
      ]
    },
    {
      "metadata": {
        "id": "v3IAK9vJWF15",
        "colab_type": "text"
      },
      "cell_type": "markdown",
      "source": [
        "__Question__ : What is the slope of the line?"
      ]
    },
    {
      "metadata": {
        "id": "2Ij8pi08ZO4G",
        "colab_type": "text"
      },
      "cell_type": "markdown",
      "source": [
        "We can use every function inside the numpy library. There are hundreds of functions inside numpy library.  You can always get help on the library by entering a command ()This command will or will not work inside \"google colab\" notebook)\n",
        "\n",
        "__help(numpy)__\n",
        "\n",
        "or \n",
        "\n",
        "if  you know which function from the library you will use, you may always get help on a special function from the library. You can look up all the functions in __numpy__ library by the command:\n",
        "\n",
        "\n",
        "\n"
      ]
    },
    {
      "metadata": {
        "id": "lMsO01CnZuPb",
        "colab_type": "code",
        "colab": {}
      },
      "cell_type": "code",
      "source": [
        "import numpy\n",
        "dir(numpy)\n",
        "\n",
        "\n"
      ],
      "execution_count": 0,
      "outputs": []
    },
    {
      "metadata": {
        "id": "2fKAOm4P47Ts",
        "colab_type": "text"
      },
      "cell_type": "markdown",
      "source": [
        "You will see many functions inside the numpy library. You could try a few of functions. We will use  __polyfit__ function, which help us to find the slope of the linear function. You may get help by \n",
        "\n",
        "__help(numpy.polyfit)__"
      ]
    },
    {
      "metadata": {
        "id": "z0HRtUN06E2s",
        "colab_type": "code",
        "colab": {}
      },
      "cell_type": "code",
      "source": [
        "help(numpy.polyfit)"
      ],
      "execution_count": 0,
      "outputs": []
    },
    {
      "metadata": {
        "id": "_JFSLE677pEk",
        "colab_type": "text"
      },
      "cell_type": "markdown",
      "source": [
        "We drew a plot of \n",
        "\n",
        "$\\log(N(t)) = \\log(N(0)) -\\lambda * t$,\n",
        "\n",
        "which is a linear function like  $y = mx+b$ where\n",
        "\n",
        "\\begin{align}\n",
        "y &= \\log(N(t)) \\\\\n",
        "x &= t \\\\\n",
        "m & = -\\lambda \\\\\n",
        "b & = \\log(N(0))\n",
        "\\end{align}\n",
        "\n"
      ]
    },
    {
      "metadata": {
        "id": "BeBNhNKt_Tew",
        "colab_type": "code",
        "colab": {}
      },
      "cell_type": "code",
      "source": [
        "a=  np.polyfit(t,lN,1)\n",
        "# Here is the template : polyfit(x,y,n) returns the coefficients for a polynamial p(x) of degree n that is the best fit for the data in y. As we fit the data 1st degree of polynomial (y=mx+b), n=1. The coefficients are in descending order, which means [m,]"
      ],
      "execution_count": 0,
      "outputs": []
    },
    {
      "metadata": {
        "id": "MPuy7mhb_w54",
        "colab_type": "code",
        "colab": {
          "base_uri": "https://localhost:8080/",
          "height": 34
        },
        "outputId": "80830f1b-a704-492f-c22f-b893046f8450"
      },
      "cell_type": "code",
      "source": [
        "print(a)"
      ],
      "execution_count": 38,
      "outputs": [
        {
          "output_type": "stream",
          "text": [
            "[-0.02772132  4.60517019]\n"
          ],
          "name": "stdout"
        }
      ]
    },
    {
      "metadata": {
        "id": "LGaqB-QgA6cs",
        "colab_type": "code",
        "colab": {
          "base_uri": "https://localhost:8080/",
          "height": 34
        },
        "outputId": "4112bdfa-a7ac-42ff-a77b-b83bd2a90dfa"
      },
      "cell_type": "code",
      "source": [
        "HalfTime= np.log(2)/0.027\n",
        "print(HalfTime)"
      ],
      "execution_count": 44,
      "outputs": [
        {
          "output_type": "stream",
          "text": [
            "25.672117798516492\n"
          ],
          "name": "stdout"
        }
      ]
    },
    {
      "metadata": {
        "id": "aqv8aG6sB4B-",
        "colab_type": "code",
        "colab": {}
      },
      "cell_type": "code",
      "source": [
        ""
      ],
      "execution_count": 0,
      "outputs": []
    }
  ]
}