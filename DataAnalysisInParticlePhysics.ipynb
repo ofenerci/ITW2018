{
  "nbformat": 4,
  "nbformat_minor": 0,
  "metadata": {
    "colab": {
      "name": "Untitled2.ipynb",
      "version": "0.3.2",
      "provenance": [],
      "collapsed_sections": [],
      "include_colab_link": true
    },
    "kernelspec": {
      "name": "python3",
      "display_name": "Python 3"
    }
  },
  "cells": [
    {
      "cell_type": "markdown",
      "metadata": {
        "id": "view-in-github",
        "colab_type": "text"
      },
      "source": [
        "[View in Colaboratory](https://colab.research.google.com/github/ofenerci/ITW2018/blob/master/DataAnalysisInParticlePhysics.ipynb)"
      ]
    },
    {
      "metadata": {
        "id": "OP6PxdjJGnmX",
        "colab_type": "code",
        "colab": {}
      },
      "cell_type": "code",
      "source": [
        ""
      ],
      "execution_count": 0,
      "outputs": []
    },
    {
      "metadata": {
        "id": "hQwi9yxuGvQI",
        "colab_type": "text"
      },
      "cell_type": "markdown",
      "source": [
        "# Data Analysis in Particle Physics \n",
        "We are bombarded with data every day. We are living in the age of data driving models. But how do we interpret data. Before going particle physics data, we would like to show how to draw data by Python. \n",
        "\n",
        "We will withdraw the example from nuclear physics, which is related to particle physics.\n",
        "\n",
        "## Radioactive Decay\n",
        "Radioactive decay is the process by which an unstable subatomic particle physics transforms into multiple into multiple particles. During the process, the total amount of the radioactive element decreases over time. For example, Carbon atom  $^{12}_6\\text{C}$ has isotopes, most of which are radioactive. One of them is $^{10}_6\\text{C}$ and is radioactive. \n",
        "\n",
        "Although the decay of individual nuclei happens randomly, it turns out that large numbers of nuclei can be modelled by a mathematical function that predicts the amount of radioactive nuclei remaining at a given time:\n",
        "\n",
        "$$ N(t)= N_{0}e^{-\\lambda t}$$\n",
        "\n",
        "where\n",
        "\n",
        "$\\textbf{N(t)}$ is the number of radioactive atoms left at time $t$.\n",
        "\n",
        "$\\textbf{N}_{0}$ is the number of radioactive atoms at the begining. \n",
        "\n",
        "$\\boldsymbol{\\lambda}$ is the decay constant, which controls how quickly the total number of nuclei decays. \n",
        "\n",
        "Before going into detail, we would like to introduce basic plotting with python. \n",
        "\n",
        "__Example__:\n",
        "The decay constant $^{10}_6\\text{C}$ nuclei is 0.036. The number atoms at the beginning is 1000. Plot the number of radioactive nuclei remaining  in a sample of material against time ( $ 0<t<100$ seconds). \n",
        "\n",
        "We will use *numpy* and *matplotlib* libraries to plot this graph. \n",
        "\n",
        "\n"
      ]
    },
    {
      "metadata": {
        "id": "ml2hRoVAkSwq",
        "colab_type": "code",
        "colab": {
          "base_uri": "https://localhost:8080/",
          "height": 52
        },
        "outputId": "a016a767-b20b-441b-ba26-cdc8b20a0dbb"
      },
      "cell_type": "code",
      "source": [
        "# import matplotlib and numpy\n",
        "import matplotlib.pyplot as plt\n",
        "import numpy as np\n",
        "# Define constants\n",
        "N0=1000; # the number of nuclei at the beginning.\n",
        "lam = 0.036 # decay constant lambda\n",
        "#Generate points for time starting 0s, ending 100s with a time interval 5s.\n",
        "t = np.arange(0,101,5)\n",
        "print(t)\n"
      ],
      "execution_count": 27,
      "outputs": [
        {
          "output_type": "stream",
          "text": [
            "[  0   5  10  15  20  25  30  35  40  45  50  55  60  65  70  75  80  85\n",
            "  90  95 100]\n"
          ],
          "name": "stdout"
        }
      ]
    },
    {
      "metadata": {
        "id": "yPH7NKpWox_-",
        "colab_type": "text"
      },
      "cell_type": "markdown",
      "source": [
        "As we see we produced data points for $t$ from 0 to 100s with a interval of 5s. Now let's produce data points for $N(t)$.\n"
      ]
    },
    {
      "metadata": {
        "id": "5qymx2mfpZBx",
        "colab_type": "code",
        "colab": {
          "base_uri": "https://localhost:8080/",
          "height": 105
        },
        "outputId": "670001d6-e3a4-4b75-d959-e4a66b355e6a"
      },
      "cell_type": "code",
      "source": [
        "N = N0 * np.exp(-t*lam)\n",
        "print(N)"
      ],
      "execution_count": 30,
      "outputs": [
        {
          "output_type": "stream",
          "text": [
            "[1000.          835.27021141  697.67632607  582.74825237  486.75225596\n",
            "  406.56965974  339.59552564  283.6540265   236.92775868  197.89869908\n",
            "  165.29888822  138.06923731  115.32512104   96.32763823   80.45960675\n",
            "   67.20551274   56.13476283   46.88769522   39.1638951    32.71243494\n",
            "   27.32372245]\n"
          ],
          "name": "stdout"
        }
      ]
    },
    {
      "metadata": {
        "id": "LDfGF4w2qLFi",
        "colab_type": "text"
      },
      "cell_type": "markdown",
      "source": [
        "Now we created two data points for two variables, which are $N(t)$ and $t$. To determine the relationship between two variables, we will use the *plot* library function *scatter()*. "
      ]
    },
    {
      "metadata": {
        "id": "VW5843Pxq64X",
        "colab_type": "code",
        "colab": {
          "base_uri": "https://localhost:8080/",
          "height": 376
        },
        "outputId": "9a06b1fb-9b9a-4c11-b6fb-44a4f7bae9d6"
      },
      "cell_type": "code",
      "source": [
        "plt.scatter(N,t)\n",
        "plt.title('Decay rate of C-10 nucleus')\n",
        "plt.xlabel ('Time (s)')\n",
        "plt.ylabel('Radioactive Nuclei')\n",
        "plt.show()"
      ],
      "execution_count": 33,
      "outputs": [
        {
          "output_type": "display_data",
          "data": {
            "image/png": "[encoded data removed]",
            "text/plain": [
              "<matplotlib.figure.Figure at 0x7f1a552d3b70>"
            ]
          },
          "metadata": {
            "tags": []
          }
        }
      ]
    },
    {
      "metadata": {
        "id": "tEUAGLxBzxOK",
        "colab_type": "text"
      },
      "cell_type": "markdown",
      "source": [
        "__Example__: Here is a data on the radioactive decay of Strontium 90. \n",
        "\n",
        "|Time (years)| Amount of Strontium 90(grams)|\n",
        "|---|---|\n",
        "|0|100|\n",
        "|25|50|\n",
        "|50|25|\n",
        "|75|12.5|\n",
        "|100|6.25|\n",
        "|125|3.135|\n",
        "|150|1.5625|\n",
        "|175|0.78125|\n",
        "\n",
        "Let's determine decay rate of Strontium 90 from the plot. \n"
      ]
    },
    {
      "metadata": {
        "id": "V5vir9JW4QYY",
        "colab_type": "text"
      },
      "cell_type": "markdown",
      "source": [
        "Assign time to $t$ and amount of strontium to $N(t)$"
      ]
    },
    {
      "metadata": {
        "id": "_hgwXEaX4IYX",
        "colab_type": "code",
        "colab": {
          "base_uri": "https://localhost:8080/",
          "height": 347
        },
        "outputId": "27350033-6bdf-4e6a-c4f7-756941f06587"
      },
      "cell_type": "code",
      "source": [
        "t = np.array([0,25,50,75,100,125,150,175])\n",
        "N = np.array([100,50,25,12.5,6.25,3.135,1.5625,0.78125])\n",
        "plt.scatter(t,N)\n",
        "plt.show()"
      ],
      "execution_count": 39,
      "outputs": [
        {
          "output_type": "display_data",
          "data": {
            "image/png": "[encoded data removed]",
            "text/plain": [
              "<matplotlib.figure.Figure at 0x7f1a552b36a0>"
            ]
          },
          "metadata": {
            "tags": []
          }
        }
      ]
    },
    {
      "metadata": {
        "id": "_xZBJYAu4ssJ",
        "colab_type": "code",
        "colab": {}
      },
      "cell_type": "code",
      "source": [
        ""
      ],
      "execution_count": 0,
      "outputs": []
    },
    {
      "metadata": {
        "id": "r3HqMUlz5g66",
        "colab_type": "text"
      },
      "cell_type": "markdown",
      "source": [
        "To find the decay constant, we will take the natural log of both sides of decay formula,\n",
        "\n",
        "\\begin{align}\n",
        "\\ N(t) & =N(0)*exp(-\\lambda t) \\\\\n",
        "\\log(N(t)) & = \\log(N(0)*exp(-\\lambda t))\\\\\n",
        "\\log(N(t)) & = \\log(N(0)) -\\lambda * t\n",
        "\\end{align}\n"
      ]
    }
  ]
}