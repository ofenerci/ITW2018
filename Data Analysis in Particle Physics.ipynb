{
  "nbformat": 4,
  "nbformat_minor": 0,
  "metadata": {
    "colab": {
      "name": "Untitled2.ipynb",
      "version": "0.3.2",
      "provenance": [],
      "toc_visible": true,
      "include_colab_link": true
    },
    "kernelspec": {
      "name": "python3",
      "display_name": "Python 3"
    }
  },
  "cells": [
    {
      "cell_type": "markdown",
      "metadata": {
        "id": "view-in-github",
        "colab_type": "text"
      },
      "source": [
        "[View in Colaboratory](https://colab.research.google.com/github/ofenerci/ITW2018/blob/master/Data%20Analysis%20in%20Particle%20Physics.ipynb)"
      ]
    },
    {
      "metadata": {
        "id": "OP6PxdjJGnmX",
        "colab_type": "code",
        "colab": {}
      },
      "cell_type": "code",
      "source": [
        ""
      ],
      "execution_count": 0,
      "outputs": []
    },
    {
      "metadata": {
        "id": "hQwi9yxuGvQI",
        "colab_type": "text"
      },
      "cell_type": "markdown",
      "source": [
        "# 1 Data Analysis in Particle Physics \n",
        "We are bombarded with data every day. We are living in the age of data driving models. But how do we interpret data. Before going particle physics data, we would like to show how to draw data by Python. \n",
        "\n",
        "We will withdraw the example from nuclear physics, which is related to particle physics.\n",
        "\n",
        "## Radioactive Decay\n",
        "Radioactive decay is the process by which an unstable subatomic particle physics transforms into multiple into multiple particles. During the process, the total amount of the radioactive element decreases over time. For example, Carbon atom  $^{12}_6\\text{C}$ has isotopes, most of which are radioactive. \n",
        "\n",
        "__Half-life__:  Definition of Half-life.\n",
        "\n",
        "Before going into detail, we would like to intrdoce basic plotting"
      ]
    },
    {
      "metadata": {
        "id": "4J-mZSInVQgP",
        "colab_type": "code",
        "colab": {
          "base_uri": "https://localhost:8080/",
          "height": 132
        },
        "outputId": "c633431d-942c-4e01-b904-7ae1336e4c73"
      },
      "cell_type": "code",
      "source": [
        "pip install \n"
      ],
      "execution_count": 2,
      "outputs": [
        {
          "output_type": "error",
          "ename": "SyntaxError",
          "evalue": "ignored",
          "traceback": [
            "\u001b[0;36m  File \u001b[0;32m\"<ipython-input-2-1c0e089b301b>\"\u001b[0;36m, line \u001b[0;32m1\u001b[0m\n\u001b[0;31m    jupyter contrib nbextension install --user\u001b[0m\n\u001b[0m                  ^\u001b[0m\n\u001b[0;31mSyntaxError\u001b[0m\u001b[0;31m:\u001b[0m invalid syntax\n"
          ]
        }
      ]
    }
  ]
}